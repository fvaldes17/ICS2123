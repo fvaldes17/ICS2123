{
  "nbformat": 4,
  "nbformat_minor": 0,
  "metadata": {
    "colab": {
      "name": "ICS2123 - T1.ipynb",
      "provenance": [],
      "collapsed_sections": [],
      "authorship_tag": "ABX9TyNsKCa0W9IN2STcGvOibhTa",
      "include_colab_link": true
    },
    "kernelspec": {
      "name": "python3",
      "display_name": "Python 3"
    },
    "language_info": {
      "name": "python"
    }
  },
  "cells": [
    {
      "cell_type": "markdown",
      "metadata": {
        "id": "view-in-github",
        "colab_type": "text"
      },
      "source": [
        "<a href=\"https://colab.research.google.com/github/fvaldes17/ICS2123/blob/main/ICS2123%20%20-%20T1.ipynb\" target=\"_parent\"><img src=\"https://colab.research.google.com/assets/colab-badge.svg\" alt=\"Open In Colab\"/></a>"
      ]
    },
    {
      "cell_type": "markdown",
      "metadata": {
        "id": "NdXazucn6LGt"
      },
      "source": [
        "# Parte 1"
      ]
    },
    {
      "cell_type": "code",
      "metadata": {
        "colab": {
          "base_uri": "https://localhost:8080/"
        },
        "id": "19akd_Pq6HTw",
        "outputId": "987ec5c3-0997-49e1-b056-09d9b1f3b67c"
      },
      "source": [
        "from random import choice\n",
        "\n",
        "\n",
        "class Dado:\n",
        "\n",
        "    def __init__(self):\n",
        "        self.caras = [1, 2, 3, 4, 5 , 6]\n",
        "        self.cara_mostrada = int\n",
        "    \n",
        "    def girar(self):\n",
        "        resultado = choice(self.caras)\n",
        "        self.cara_mostrada = resultado\n",
        "\n",
        "dado_1 = Dado()\n",
        "dado_2 = Dado()\n",
        "dado_3 = Dado()\n",
        "\n",
        "tiros_piscina = []\n",
        "dado_mayor = []\n",
        "\n",
        "def es_par(x, y):\n",
        "    return (x + y) % 2 == 0\n",
        "\n",
        "def juego():\n",
        "    # Ambas tiran sus dados. Si tiraron el mismo numero, vuelven a lanzar hasta que lancen numeros distintos\n",
        "    dado_1.girar()  # Dado que tira Celia\n",
        "    dado_2.girar()  # Dado que tira Olga\n",
        "\n",
        "    while dado_1.cara_mostrada == dado_2.cara_mostrada:\n",
        "        dado_1.girar()  # Dado que tira Celia\n",
        "        dado_2.girar()  # Dado que tira Olga\n",
        "    # La que tiro el dado mas alto pasa a la siguiente etapa\n",
        "    # Caso de que Olga saque el número mayor:\n",
        "    if dado_2.cara_mostrada > dado_1.cara_mostrada:\n",
        "        dado_mayor.append('olga')\n",
        "        dado_1.girar()\n",
        "        dado_2.girar()\n",
        "        while dado_1.cara_mostrada == dado_2.cara_mostrada:\n",
        "            dado_1.girar()\n",
        "            dado_2.girar()\n",
        "        if es_par(dado_1.cara_mostrada, dado_2.cara_mostrada):\n",
        "            return 'olga'\n",
        "        else:\n",
        "            return 'salva'\n",
        "\n",
        "    # Si celia lanzo el dado mayor, entonces lanza el tercer dado\n",
        "    else:\n",
        "        dado_mayor.append('celia')\n",
        "        dado_3.girar()  # Dado \"Auxiliar\"\n",
        "        # Si el tercer dado muestra un numero menor o igual a 2, entonces Olga debe volver a lanzar su dado.\n",
        "        if dado_3.cara_mostrada <= 2:\n",
        "            dado_2.girar()\n",
        "            while dado_2.cara_mostrada == dado_1.cara_mostrada:\n",
        "                dado_2.girar()\n",
        "        # La que tiro el dado mas alto pasa a la siguiente etapa\n",
        "        # Caso de que Olga saque el número mayor dado que Celia lanzó el dado mayor en su\n",
        "        # primera oportunidad:\n",
        "        if dado_2.cara_mostrada > dado_1.cara_mostrada:\n",
        "            dado_1.girar()\n",
        "            dado_2.girar()\n",
        "            while dado_1.cara_mostrada == dado_2.cara_mostrada:\n",
        "                dado_1.girar()\n",
        "                dado_2.girar()\n",
        "            if es_par(dado_1.cara_mostrada, dado_2.cara_mostrada):\n",
        "                return 'olga condicionada'\n",
        "            else:\n",
        "                return 'salva'\n",
        "        # Caso que Celia saque el número mayor:\n",
        "        else:\n",
        "            dado_1.girar()\n",
        "            dado_2.girar()\n",
        "            while dado_1.cara_mostrada == dado_2.cara_mostrada:\n",
        "                dado_1.girar()\n",
        "                dado_2.girar()\n",
        "            if es_par(dado_1.cara_mostrada, dado_2.cara_mostrada):\n",
        "                return 'celia'\n",
        "            else:\n",
        "                return 'salva'\n",
        "\n",
        "# Juego simulado 1.000.000 veces\n",
        "for __ in range(1000000):\n",
        "    perdedor = juego()\n",
        "    tiros_piscina.append(perdedor)\n",
        "\n",
        "# Pregunta a)\n",
        "probabilidad_celia = tiros_piscina.count('celia')/1000000\n",
        "print('Probabilidad celia:', probabilidad_celia)\n",
        "\n",
        "# Pregunta b)\n",
        "probabilidad_olga_inter_celia = tiros_piscina.count('olga condicionada')/1000000\n",
        "probabilidad_celia_dado_mayor = dado_mayor.count('celia')/1000000\n",
        "probabilidad_olga_condicionada = probabilidad_olga_inter_celia/probabilidad_celia_dado_mayor\n",
        "print('Probabilidad condicionada:', probabilidad_olga_condicionada)\n",
        "\n",
        "# Pregunta c)\n",
        "tiros_piscina = []\n",
        "for __ in range(1000000):\n",
        "    tiros_piscina_dentro = []\n",
        "    for partida in range(3):\n",
        "        perdedor = juego()\n",
        "        tiros_piscina_dentro.append(perdedor)\n",
        "    tiros_piscina.append(tiros_piscina_dentro)\n",
        "\n",
        "ganadas_consecutivas_celia = 0\n",
        "for partida in tiros_piscina:\n",
        "    perdidas_celia = partida.count('celia')\n",
        "    if perdidas_celia > 0:\n",
        "        pass\n",
        "    else:\n",
        "        ganadas_consecutivas_celia += 1\n",
        "\n",
        "probabilidad_celia_salva = ganadas_consecutivas_celia/1000000\n",
        "print('Probabilidad parte c:', probabilidad_celia_salva)\n"
      ],
      "execution_count": 1,
      "outputs": [
        {
          "output_type": "stream",
          "text": [
            "Probabilidad celia: 0.181498\n",
            "Probabilidad condicionada: 0.03584657593458645\n",
            "Probabilidad parte c: 0.547479\n"
          ],
          "name": "stdout"
        }
      ]
    },
    {
      "cell_type": "markdown",
      "metadata": {
        "id": "jf-fNZdX6c0s"
      },
      "source": [
        "# Parte 2"
      ]
    },
    {
      "cell_type": "code",
      "metadata": {
        "colab": {
          "base_uri": "https://localhost:8080/"
        },
        "id": "Pa-DJ8Kj6TJd",
        "outputId": "b8a12bbf-7dfc-4834-e54d-481837835992"
      },
      "source": [
        "import numpy as np\n",
        "\n",
        "# Se crea una variable que cuente la cantidad de veces que \n",
        "# hayan más de 15 voces en las 5 horas.\n",
        "voces_excedidas_a = 0\n",
        "voces_excedidas_b = 0\n",
        "for __ in range(100000):  # Se simula 100000 veces\n",
        "    # Se simula un muestreo poisson con tasa 3 voces/hora por 5 horas\n",
        "    voces = sum(np.random.poisson(3, 5))\n",
        "    if voces >= 15:\n",
        "        voces_excedidas_a += 1\n",
        "    if voces < 5:\n",
        "        voces_excedidas_b += 1\n",
        "\n",
        "# Se calcula la probabilidad\n",
        "print(\"=\"*12, f\"{'Item a)':^15s}\", \"=\"*12)\n",
        "print(f\"{'Probabilidad de aparicion A':<30s} | {voces_excedidas_a/100000:^6f}\")\n",
        "print(f\"{'¿Debe seguir trabajando?':<30s} | {'Si' if voces_excedidas_a/100000 < 0.7 else 'No':^6}\")\n",
        "\n",
        "print(\"=\"*12, f\"{'Item b)':^15s}\", \"=\"*12)\n",
        "print(f\"{'Probabilidad de aparición B':<30s} | {voces_excedidas_b/100000:^6f}\")\n",
        "print(f\"{'¿Debe ir a la iglesia?':<30s} | {'Si' if voces_excedidas_b/100000 > 0.01 else 'No':^6}\")"
      ],
      "execution_count": 2,
      "outputs": [
        {
          "output_type": "stream",
          "text": [
            "============     Item a)     ============\n",
            "Probabilidad de aparicion A    | 0.534070\n",
            "¿Debe seguir trabajando?       |   Si  \n",
            "============     Item b)     ============\n",
            "Probabilidad de aparición B    | 0.000870\n",
            "¿Debe ir a la iglesia?         |   No  \n"
          ],
          "name": "stdout"
        }
      ]
    }
  ]
}