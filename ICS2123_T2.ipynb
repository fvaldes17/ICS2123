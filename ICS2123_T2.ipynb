{
  "nbformat": 4,
  "nbformat_minor": 0,
  "metadata": {
    "colab": {
      "name": "ICS2123 - T2.ipynb",
      "provenance": [],
      "collapsed_sections": [],
      "authorship_tag": "ABX9TyP8MYZnqEjOJBlNHWdnM6ze"
    },
    "kernelspec": {
      "name": "python3",
      "display_name": "Python 3"
    },
    "language_info": {
      "name": "python"
    }
  },
  "cells": [
    {
      "cell_type": "markdown",
      "metadata": {
        "id": "EXc6Iox8nrnS"
      },
      "source": [
        "# Problema 3\n"
      ]
    },
    {
      "cell_type": "code",
      "metadata": {
        "id": "kcL3-dc7nv5v"
      },
      "source": [
        "import numpy as np\n",
        "from math import exp, factorial, inf\n",
        "from matplotlib import pyplot as plt\n",
        "from collections import defaultdict\n",
        "\n",
        "\n",
        "class MontanaRusa():\n",
        "\n",
        "    def __init__(self, nombre, tasa):\n",
        "        self.nombre = nombre\n",
        "        self.tasa = tasa  # x personas/segundo\n",
        "        # Un diccionario de la forma {tiempo (en segundos): personas llegadas en ese tiempo}\n",
        "        # útil en caso que se quiera analizar más de un minuto\n",
        "        self.personas_llegadas = dict()\n",
        "        self.puntos_obtenidos = dict()\n",
        "\n",
        "    def personas_llegadas_t_segundos(self, t):\n",
        "        self.personas_llegadas[t] = sum(np.random.poisson(self.tasa, t))\n",
        "\n",
        "    def puntos_obtenidos_t_segundos(self, t, puntos):\n",
        "        self.puntos_obtenidos[t] = sum(np.random.poisson(self.tasa * puntos, t))\n",
        "\n",
        "\n",
        "\n",
        "# Se define la distribución poisson:\n",
        "def distribucion_poisson(k, lamb, t, acum=False, graph=False):\n",
        "    # 'acum' representa si la función es acumulada o no.\n",
        "    if acum:\n",
        "        graphics = []\n",
        "        resultado = 0\n",
        "        for i in range(k+1):\n",
        "            resultado += (lamb * t)**i * exp(-lamb*t)/factorial(i)\n",
        "        # graph representa la función de probabilidad en sí.\n",
        "        if graph:\n",
        "            graphics.append((lamb * t)**1 * exp(-lamb*t)/factorial(1))\n",
        "            i = 2\n",
        "            while graphics[-1] >= graphics[0]:\n",
        "                graphics.append((lamb * t)**i * exp(-lamb*t)/factorial(i))\n",
        "                i += 1\n",
        "        return resultado, graphics  # Retorna una tupla (valor, función de prob.)\n",
        "    else:\n",
        "        resultado = (lamb * t)**k * exp(-lamb*t)/factorial(k)\n",
        "        return resultado  # Retorna un valor"
      ],
      "execution_count": 1,
      "outputs": []
    },
    {
      "cell_type": "markdown",
      "metadata": {
        "id": "dK9slAnXnjGR"
      },
      "source": [
        "## Parte 1"
      ]
    },
    {
      "cell_type": "markdown",
      "metadata": {
        "id": "5nOy3qM7n4ho"
      },
      "source": [
        "### a)"
      ]
    },
    {
      "cell_type": "code",
      "metadata": {
        "colab": {
          "base_uri": "https://localhost:8080/",
          "height": 313
        },
        "id": "KPjo37WGnij2",
        "outputId": "812bf214-394c-4b71-c9c4-c3f5c5c930ba"
      },
      "source": [
        "# Se instancian las montañas rusas\n",
        "raptor = MontanaRusa('Raptor', 0.33)\n",
        "boomerang = MontanaRusa('Boomerang', 0.25)\n",
        "\n",
        "probabilidad_exper_parteA = []  # Casos favorables (+30)\n",
        "total_parteA = defaultdict(int)  # Utilizada para graficar la prob.\n",
        "proporciones = {'Victorias': [], 'Derrotas': [], 'Empates': []}\n",
        "# Se realizan 2000 simulaciones\n",
        "for __ in range(2000):\n",
        "    raptor.personas_llegadas_t_segundos(60)\n",
        "    raptor.puntos_obtenidos_t_segundos(60, 4)\n",
        "    boomerang.personas_llegadas_t_segundos(60)\n",
        "    boomerang.puntos_obtenidos_t_segundos(60, 5)\n",
        "\n",
        "    personas_raptor = raptor.personas_llegadas[60]\n",
        "    personas_boomerang = boomerang.personas_llegadas[60]\n",
        "\n",
        "    puntos_antonia = raptor.puntos_obtenidos[60]\n",
        "    puntos_guillermo = boomerang.puntos_obtenidos[60]\n",
        "    if puntos_antonia > puntos_guillermo:\n",
        "        proporciones['Victorias'].append('antonia')\n",
        "        proporciones['Derrotas'].append('guillermo')\n",
        "    elif puntos_guillermo > puntos_antonia:\n",
        "        proporciones['Victorias'].append('guillermo')\n",
        "        proporciones['Derrotas'].append('antonia')\n",
        "    else:\n",
        "        proporciones['Empates'].append('empate')\n",
        "\n",
        "    personas_totales_1_min = personas_boomerang + personas_raptor\n",
        "    total_parteA[personas_totales_1_min] += 1\n",
        "    if personas_totales_1_min >= 30:\n",
        "        probabilidad_exper_parteA.append(personas_totales_1_min)\n",
        "\n",
        "# Resultados parte a)\n",
        "print('Prob. experimental para +30 personas:', len(probabilidad_exper_parteA)/2000)\n",
        "print('Prob. teorica para +30 personas:', (1 - distribucion_poisson(29, 0.25+0.33, 60,\\\n",
        "                                           acum=True)[0]))\n",
        "\n",
        "plt.bar(np.array(list(total_parteA.keys())), np.array(list(total_parteA.values()))/2000,\\\n",
        "        color='y', label='Probabilidad experimental')\n",
        "plt.bar(np.linspace(1, 88, 88), distribucion_poisson(29, 0.25+0.33, 60, acum=True, graph=True)[1],\\\n",
        "         width=0.4, color='black', label='Probabilidad teorica')\n",
        "plt.axvline(x=30, color='r', label='30 personas')\n",
        "plt.ylabel('Probabilidad')\n",
        "plt.xlabel('Personas totales')\n",
        "plt.legend(loc='best')\n",
        "plt.savefig('P3_1_a.pdf')\n",
        "plt.show()"
      ],
      "execution_count": 2,
      "outputs": [
        {
          "output_type": "stream",
          "text": [
            "Prob. experimental para +30 personas: 0.8095\n",
            "Prob. teorica para +30 personas: 0.8142538399635679\n"
          ],
          "name": "stdout"
        },
        {
          "output_type": "display_data",
          "data": {
            "image/png": "[encoded data removed]",
            "text/plain": [
              "<Figure size 432x288 with 1 Axes>"
            ]
          },
          "metadata": {
            "tags": [],
            "needs_background": "light"
          }
        }
      ]
    },
    {
      "cell_type": "markdown",
      "metadata": {
        "id": "cazfvUk2oHqe"
      },
      "source": [
        "### b)"
      ]
    },
    {
      "cell_type": "code",
      "metadata": {
        "colab": {
          "base_uri": "https://localhost:8080/",
          "height": 431
        },
        "id": "Ggxe14zcoJxL",
        "outputId": "db24f603-3172-4759-9ec3-2b838b50e218"
      },
      "source": [
        "# Resultados parte b)\n",
        "# Calculo de victorias teoricas\n",
        "antonia_teor = 0\n",
        "for i in range(150):\n",
        "    for j in range(i+1, 150):\n",
        "        antonia_teor += distribucion_poisson(j, 1.32, 60) * distribucion_poisson(i, 1.25, 60)\n",
        "\n",
        "guillermo_teor = 0\n",
        "for i in range(150):\n",
        "    for j in range(0, i):\n",
        "        guillermo_teor += distribucion_poisson(j, 1.32, 60) * distribucion_poisson(i, 1.25, 60)\n",
        "\n",
        "empate_teor = 0\n",
        "for i in range(150):\n",
        "    empate_teor += distribucion_poisson(i, 1.32, 60) * distribucion_poisson(i, 1.25, 60)\n",
        "print('Victorias experimentales de Antonia:', proporciones['Victorias'].count('antonia')/2000)\n",
        "print('Victorias teoricas de Antonia:', antonia_teor)\n",
        "print()\n",
        "print('Victorias experimentales de Guillermo:', proporciones['Victorias'].count('guillermo')/2000)\n",
        "print('Victorias teoricas de Guillermo:', guillermo_teor)\n",
        "print()\n",
        "print('Empates experimentales:', len(proporciones['Empates'])/2000)\n",
        "print('Empates teóricos:', empate_teor)\n",
        "\n",
        "labels = ['Gana Guillermo', 'Gana Antonia', 'Empate']\n",
        "exp_win = [proporciones['Victorias'].count('guillermo')/2000, proporciones['Victorias'].count('antonia')/2000, len(proporciones['Empates'])/2000]\n",
        "teor_win = [guillermo_teor, antonia_teor, empate_teor]\n",
        "\n",
        "x = np.arange(len(labels))\n",
        "width = 0.35\n",
        "fig, ax = plt.subplots()\n",
        "rects1 = ax.bar(x - width/2, exp_win, width, label='Probabilidad experimental')\n",
        "rects2 = ax.bar(x + width/2, teor_win, width, label='Probabilidad teórica')\n",
        "ax.set_ylabel('Probabilidad de ocurrencia')\n",
        "ax.set_xticks(x)\n",
        "ax.set_xticklabels(labels)\n",
        "ax.legend()\n",
        "fig.tight_layout()\n",
        "plt.savefig('P3_1_b.pdf')\n",
        "plt.show()"
      ],
      "execution_count": 3,
      "outputs": [
        {
          "output_type": "stream",
          "text": [
            "Victorias experimentales de Antonia: 0.6205\n",
            "Victorias teoricas de Antonia: 0.6171265444336508\n",
            "\n",
            "Victorias experimentales de Guillermo: 0.3515\n",
            "Victorias teoricas de Guillermo: 0.35250265675821246\n",
            "\n",
            "Empates experimentales: 0.028\n",
            "Empates teóricos: 0.030370798807174772\n"
          ],
          "name": "stdout"
        },
        {
          "output_type": "display_data",
          "data": {
            "image/png": "[encoded data removed]",
            "text/plain": [
              "<Figure size 432x288 with 1 Axes>"
            ]
          },
          "metadata": {
            "tags": [],
            "needs_background": "light"
          }
        }
      ]
    },
    {
      "cell_type": "markdown",
      "metadata": {
        "id": "yETXe6EBoVQ1"
      },
      "source": [
        "### c)"
      ]
    },
    {
      "cell_type": "code",
      "metadata": {
        "colab": {
          "base_uri": "https://localhost:8080/",
          "height": 541
        },
        "id": "q7Okzxr0oWnq",
        "outputId": "d92856c6-e134-4a49-c4b3-c479d3d263b7"
      },
      "source": [
        "# Resultado parte c)\n",
        "proporciones_c = defaultdict(list)\n",
        "for __ in range(2000):  # Demora aprox. 3 mins en ejecutarse\n",
        "    for segundos in range(500):\n",
        "        raptor.puntos_obtenidos_t_segundos(segundos, 4)\n",
        "        boomerang.puntos_obtenidos_t_segundos(segundos, 5)\n",
        "\n",
        "        puntos_antonia = raptor.puntos_obtenidos[segundos]\n",
        "        puntos_guillermo = boomerang.puntos_obtenidos[segundos]\n",
        "        if puntos_guillermo > puntos_antonia:\n",
        "            proporciones_c['Victorias Guillermo' + str(segundos)].append('guillermo')\n",
        "        elif puntos_antonia > puntos_guillermo:\n",
        "            proporciones_c['Victorias Antonia' + str(segundos)].append('antonia')\n",
        "        else:\n",
        "            proporciones_c['Empates' + str(segundos)].append('empates')\n",
        "\n",
        "\n",
        "victorias_guillermo_c = {segundo: proporciones_c['Victorias Guillermo' + str(segundo)].count('guillermo') for segundo in range(500)}\n",
        "victorias_antonia_c = {segundo: proporciones_c['Victorias Antonia' + str(segundo)].count('antonia') for segundo in range(500)}\n",
        "empates_c = {segundo: proporciones_c['Empates' + str(segundo)].count('empates') for segundo in range(500)}\n",
        "x = np.linspace(0, 499, 500)\n",
        "y_1 = np.array(list(victorias_guillermo_c.values())) / 2000\n",
        "y_2 = np.array(list(victorias_antonia_c.values())) / 2000\n",
        "y_3 = np.array(list(empates_c.values())) / 2000\n",
        "\n",
        "plt.step(x, y_1, color='b', label='Victorias de Guillermo')\n",
        "plt.ylabel('Probabilidad de ocurrencia')\n",
        "plt.xlabel('Segundos')\n",
        "plt.legend(title='Leyenda',loc='best')\n",
        "plt.savefig('P3_1_c1.pdf')\n",
        "plt.show()\n",
        "\n",
        "plt.step(x, y_1, color='b', label='Victorias de Guillermo')\n",
        "plt.step(x, y_2, color='r', label='Victorias de Antonia')\n",
        "plt.step(x, y_3, color='g', label='Empates')\n",
        "plt.ylabel('Probabilidad de ocurrencia')\n",
        "plt.xlabel('Segundos')\n",
        "plt.legend(title='Leyenda',loc='best')\n",
        "plt.savefig('P3_1_c2.pdf')\n",
        "plt.show()"
      ],
      "execution_count": 4,
      "outputs": [
        {
          "output_type": "display_data",
          "data": {
            "image/png": "[encoded data removed]",
            "text/plain": [
              "<Figure size 432x288 with 1 Axes>"
            ]
          },
          "metadata": {
            "tags": [],
            "needs_background": "light"
          }
        },
        {
          "output_type": "display_data",
          "data": {
            "image/png": "[encoded data removed]",
            "text/plain": [
              "<Figure size 432x288 with 1 Axes>"
            ]
          },
          "metadata": {
            "tags": [],
            "needs_background": "light"
          }
        }
      ]
    },
    {
      "cell_type": "markdown",
      "metadata": {
        "id": "XRfQNH0jocPA"
      },
      "source": [
        "## Parte 2"
      ]
    },
    {
      "cell_type": "markdown",
      "metadata": {
        "id": "fuUZiNmhoee0"
      },
      "source": [
        "### a)"
      ]
    },
    {
      "cell_type": "code",
      "metadata": {
        "colab": {
          "base_uri": "https://localhost:8080/"
        },
        "id": "-vHtIxCUofYh",
        "outputId": "f7565b98-9c01-4df1-cc18-2fb23c40e3bb"
      },
      "source": [
        "tren_minero = MontanaRusa('Tren Minero', 0.39)  # Se instancia la montaña rusa de Sofia\n",
        "\n",
        "empates = 0\n",
        "# Se realizan 3000 simulaciones\n",
        "for __ in range(3000):\n",
        "    raptor.puntos_obtenidos_t_segundos(60, 4)\n",
        "    boomerang.puntos_obtenidos_t_segundos(60, 5)\n",
        "    tren_minero.puntos_obtenidos_t_segundos(60, 3)\n",
        "\n",
        "    puntos_antonia = raptor.puntos_obtenidos[60]\n",
        "    puntos_guillermo = boomerang.puntos_obtenidos[60]\n",
        "    puntos_sofia = tren_minero.puntos_obtenidos[60]\n",
        "    \n",
        "    posibles_empates = [puntos_antonia == puntos_guillermo,\n",
        "                        puntos_antonia == puntos_sofia,\n",
        "                        puntos_guillermo == puntos_sofia]\n",
        "    if any(posibles_empates):\n",
        "        empates += 1\n",
        "\n",
        "# Calculo teórico\n",
        "empate_teor = 0\n",
        "for i in range(150):\n",
        "    empate_teor += distribucion_poisson(i, 1.32, 60) * distribucion_poisson(i, 1.25, 60)  # puntos antonia == puntos guillermo\n",
        "    empate_teor += distribucion_poisson(i, 1.32, 60) * distribucion_poisson(i, 0.39*3, 60)  # puntos antonia == puntos sofia\n",
        "    empate_teor += distribucion_poisson(i, 1.25, 60) * distribucion_poisson(i, 0.39*3, 60)  # puntos guillermo == puntos sofia\n",
        "\n",
        "print()\n",
        "print('Probabilidad teórica de que ocurra algún empate:', empate_teor)\n",
        "print('Probabilidad experimental de que ocurra algún empate:', empates/3000)"
      ],
      "execution_count": 5,
      "outputs": [
        {
          "output_type": "stream",
          "text": [
            "\n",
            "Probabilidad teórica de que ocurra algún empate: 0.08591353258271948\n",
            "Probabilidad experimental de que ocurra algún empate: 0.08\n"
          ],
          "name": "stdout"
        }
      ]
    },
    {
      "cell_type": "markdown",
      "metadata": {
        "id": "7siRixEDomnv"
      },
      "source": [
        "## Parte 3"
      ]
    },
    {
      "cell_type": "markdown",
      "metadata": {
        "id": "Z2nxzhuYoo8V"
      },
      "source": [
        "### b)"
      ]
    },
    {
      "cell_type": "code",
      "metadata": {
        "colab": {
          "base_uri": "https://localhost:8080/",
          "height": 675
        },
        "id": "82lc7-q_oqrY",
        "outputId": "d48ab47a-5ad7-44d0-fa28-b438eb0e7a89"
      },
      "source": [
        "puntos_antonia_xseg = defaultdict(int)\n",
        "puntos_guillermo_xseg = defaultdict(int)\n",
        "puntos_sofia_xseg = defaultdict(int)\n",
        "\n",
        "probabilidad_50_antonia = 0\n",
        "probabilidad_50_guillermo = 0\n",
        "probabilidad_50_sofia = 0\n",
        "\n",
        "victorias_c = []\n",
        "# Se realizan 3000 simulaciones\n",
        "for __ in range(3000):\n",
        "    finalizador = False\n",
        "    # Para 200 segundos\n",
        "    for segundos in range(200):\n",
        "        raptor.puntos_obtenidos_t_segundos(segundos, 4)\n",
        "        boomerang.puntos_obtenidos_t_segundos(segundos, 5)\n",
        "        tren_minero.puntos_obtenidos_t_segundos(segundos, 3)\n",
        "\n",
        "        puntos_antonia = raptor.puntos_obtenidos[segundos]\n",
        "        puntos_guillermo = boomerang.puntos_obtenidos[segundos]\n",
        "        puntos_sofia = tren_minero.puntos_obtenidos[segundos]\n",
        "\n",
        "        # Utilizados para graficar\n",
        "        puntos_antonia_xseg[segundos] += puntos_antonia\n",
        "        puntos_guillermo_xseg[segundos] += puntos_guillermo\n",
        "        puntos_sofia_xseg[segundos] += puntos_sofia\n",
        "        \n",
        "        # Se encarga de comprobar quien llega primero a 50 puntos\n",
        "        if (puntos_antonia >= 50 or puntos_guillermo >= 50 or puntos_sofia >= 50) and not finalizador:\n",
        "            if puntos_antonia >= 50 and puntos_guillermo < 50 and puntos_sofia < 50:\n",
        "                victorias_c.append('antonia') \n",
        "            elif puntos_guillermo >= 50 and puntos_antonia < 50 and puntos_sofia < 50:\n",
        "                victorias_c.append('guillermo')\n",
        "            elif puntos_sofia >= 50 and puntos_guillermo < 50 and puntos_antonia < 50:\n",
        "                victorias_c.append('sofia')\n",
        "            else:\n",
        "                victorias_c.append('empate')\n",
        "            finalizador = True\n",
        "        \n",
        "        # Se encarga de la probabilidad de obtener mas de 50 puntos en 90 seg. por cada jugador\n",
        "        if segundos == 90:\n",
        "            # Se consideran solo sobre 50 puntos, no exactos 50\n",
        "            if puntos_antonia > 50:\n",
        "                probabilidad_50_antonia += 1\n",
        "            if puntos_guillermo > 50:\n",
        "                probabilidad_50_guillermo += 1\n",
        "            if puntos_sofia > 50:\n",
        "                probabilidad_50_sofia += 1\n",
        "\n",
        "print('Probabilidad de victoria de Antonia:', victorias_c.count('antonia') / 3000)\n",
        "print('Probabilidad de victoria de Guillermo:', victorias_c.count('guillermo') / 3000)\n",
        "print('Probabilidad de victoria de Sofia:', victorias_c.count('sofia') / 3000)\n",
        "print('Probabilidad de que ocurra algún empate:', victorias_c.count('empate') / 3000)\n",
        "print()\n",
        "print('Prob. puntos > 50 en 90s - Antonia:', probabilidad_50_antonia / 3000)\n",
        "print('Prob. puntos > 50 en 90s - Guillermo:', probabilidad_50_guillermo / 3000)\n",
        "print('Prob. puntos > 50 en 90s - Sofia:', probabilidad_50_sofia / 3000)\n",
        "\n",
        "\n",
        "plt.bar(['Antonia', 'Guillermo', 'Sofia'],\n",
        "        np.array([probabilidad_50_antonia, probabilidad_50_guillermo, probabilidad_50_sofia])/3000)\n",
        "plt.xlabel('Probabilidad')\n",
        "plt.savefig('P3_3_a1.pdf')\n",
        "plt.show()\n",
        "\n",
        "x = np.linspace(0, 200, 200)\n",
        "plt.step(x, np.array(list(puntos_antonia_xseg.values())) / 3000, label='Antonia', color='r')\n",
        "plt.step(x, np.array(list(puntos_guillermo_xseg.values())) / 3000, label='Guillermo', color='b')\n",
        "plt.step(x, np.array(list(puntos_sofia_xseg.values())) / 3000, label='Sofia', color='g')\n",
        "plt.axhline(y=50, color='m', label='30 personas', ls='--', lw=0.3)\n",
        "plt.ylabel('Puntos')\n",
        "plt.xlabel('Segundos')\n",
        "plt.legend(loc='best')\n",
        "plt.savefig('P3_3_a2.pdf')\n",
        "plt.show()"
      ],
      "execution_count": 6,
      "outputs": [
        {
          "output_type": "stream",
          "text": [
            "Probabilidad de victoria de Antonia: 0.542\n",
            "Probabilidad de victoria de Guillermo: 0.252\n",
            "Probabilidad de victoria de Sofia: 0.10333333333333333\n",
            "Probabilidad de que ocurra algún empate: 0.10266666666666667\n",
            "\n",
            "Prob. puntos > 50 en 90s - Antonia: 1.0\n",
            "Prob. puntos > 50 en 90s - Guillermo: 1.0\n",
            "Prob. puntos > 50 en 90s - Sofia: 1.0\n"
          ],
          "name": "stdout"
        },
        {
          "output_type": "display_data",
          "data": {
            "image/png": "[encoded data removed]",
            "text/plain": [
              "<Figure size 432x288 with 1 Axes>"
            ]
          },
          "metadata": {
            "tags": [],
            "needs_background": "light"
          }
        },
        {
          "output_type": "display_data",
          "data": {
            "image/png": "[encoded data removed]",
            "text/plain": [
              "<Figure size 432x288 with 1 Axes>"
            ]
          },
          "metadata": {
            "tags": [],
            "needs_background": "light"
          }
        }
      ]
    },
    {
      "cell_type": "code",
      "metadata": {
        "id": "AYFVQ3NTpDyw"
      },
      "source": [
        ""
      ],
      "execution_count": null,
      "outputs": []
    }
  ]
}