{
  "nbformat": 4,
  "nbformat_minor": 0,
  "metadata": {
    "colab": {
      "name": "ICS2123_T3.ipynb",
      "provenance": [],
      "collapsed_sections": [],
      "authorship_tag": "ABX9TyOifNnFJ5I4xLvo/qB4Fxtb"
    },
    "kernelspec": {
      "name": "python3",
      "display_name": "Python 3"
    },
    "language_info": {
      "name": "python"
    }
  },
  "cells": [
    {
      "cell_type": "markdown",
      "metadata": {
        "id": "zAJetQAVa6nB"
      },
      "source": [
        "#Problema 3"
      ]
    },
    {
      "cell_type": "markdown",
      "metadata": {
        "id": "oK2hm4N3bGUv"
      },
      "source": [
        "##a)"
      ]
    },
    {
      "cell_type": "code",
      "metadata": {
        "id": "bt2PPOcXaxLb"
      },
      "source": [
        "import numpy as np\n",
        "from numpy.linalg import matrix_power, solve\n",
        "import matplotlib.pyplot as plt\n",
        "\n",
        "\n",
        "class Sistema:\n",
        "\n",
        "    def __init__(self, N, I, alpha):\n",
        "        self.N = N\n",
        "        self.I = I\n",
        "        self.alpha = alpha\n",
        "        # P es la matriz de transición\n",
        "        self.P = [[self.P_ij(i, j) for j in range(I, N + 1)]  for i in range(I, N + 1)]\n",
        "\n",
        "    # Función que calcula probabilidad de transición de un estado i a otro j:\n",
        "    def P_ij(self, i, j):\n",
        "        if j == i:\n",
        "            probability = (1 - self.alpha) * 2 * (i/self.N * (self.N - i)/(self.N - 1)) + i/self.N * (i - 1)/(self.N-1) + (self.N - i)/self.N * (self.N - 1 - i)/(self.N - 1)\n",
        "        elif j == i + 1:\n",
        "            probability = self.alpha * 2 * i/self.N * (self.N - i)/(self.N - 1)\n",
        "        else:\n",
        "            probability = 0\n",
        "        return probability"
      ],
      "execution_count": 1,
      "outputs": []
    },
    {
      "cell_type": "markdown",
      "metadata": {
        "id": "2JbiKYYZbKwZ"
      },
      "source": [
        "##b)"
      ]
    },
    {
      "cell_type": "code",
      "metadata": {
        "colab": {
          "base_uri": "https://localhost:8080/",
          "height": 297
        },
        "id": "6iFcaSB0bJ7c",
        "outputId": "2f7452c4-ac20-44d2-b423-e1799dba72de"
      },
      "source": [
        "alpha_x = [i/10 for i in range(1, 11)]\n",
        "probability_100 = []\n",
        "probability_200 = []\n",
        "for x in alpha_x:\n",
        "    instance = Sistema(100, 25, x)\n",
        "    matriz_transicion = np.array(instance.P)\n",
        "    matriz_100 = matrix_power(matriz_transicion, 100)\n",
        "    matriz_200 = matrix_power(matriz_transicion, 200)\n",
        "    probability_100.append(sum(matriz_100[0][0:26]))\n",
        "    probability_200.append(sum(matriz_200[0][0:51]))\n",
        "\n",
        "bar_width = 0.35\n",
        "fig, ax = plt.subplots()\n",
        "br1 = np.arange(len(alpha_x))\n",
        "br2 = [x + bar_width for x in br1]\n",
        "\n",
        "bar_100 = ax.bar(br1, probability_100, width = bar_width, label=\"100\")\n",
        "bar_200 = ax.bar(br2, probability_200, width = bar_width, label=\"200\")\n",
        "ax.set_xlabel(r'$\\alpha$ Value')\n",
        "ax.set_ylabel('Probability')\n",
        "ax.set_title('Probabilidad contagios 25 y 50 para 100 y 200 dias')\n",
        "ax.set_xticks(br1 + bar_width / 2)\n",
        "ax.set_xticklabels(alpha_x)\n",
        "ax.legend()\n",
        "plt.savefig('P3_b.pdf')\n",
        "plt.show()"
      ],
      "execution_count": 2,
      "outputs": [
        {
          "output_type": "display_data",
          "data": {
            "image/png": "[encoded data removed]",
            "text/plain": [
              "<Figure size 432x288 with 1 Axes>"
            ]
          },
          "metadata": {
            "tags": [],
            "needs_background": "light"
          }
        }
      ]
    },
    {
      "cell_type": "markdown",
      "metadata": {
        "id": "A8tfJ8rrbP-4"
      },
      "source": [
        "##c"
      ]
    },
    {
      "cell_type": "code",
      "metadata": {
        "colab": {
          "base_uri": "https://localhost:8080/",
          "height": 314
        },
        "id": "JFjv3NPLbO5r",
        "outputId": "cdb97f1e-f4b8-4030-df23-c23d7d80e6e1"
      },
      "source": [
        "parte_c = Sistema(100, 25, 0.6)\n",
        "A = [[0 for i in range(len(parte_c.P))] for j in range(len(parte_c.P))]\n",
        "B = [-1 for i in range(len(parte_c.P))]\n",
        "for i, esperanza in enumerate(parte_c.P):\n",
        "    A[i][i] += -1\n",
        "    for j, p_ij in enumerate(esperanza):\n",
        "        if j == (parte_c.N - parte_c.I):\n",
        "            pass\n",
        "        else:\n",
        "            A[i][j] += parte_c.P[i][j]\n",
        "\n",
        "A = np.array(A)\n",
        "B = np.array(B)\n",
        "x = solve(A, B)  # Lista de la forma [ E[T(1,75)], E[T(2,75)], E[T(3,75)], ... , E[T(75,75)] ]\n",
        "print(x[0])  # Demoraría 519.9789350612327 días en promedio en ir desde 25 contagiados a 75 contagiados\n",
        "\n",
        "\n",
        "tiempo_promedio = []\n",
        "for alpha in alpha_x:\n",
        "    parte_c = Sistema(100, 25, alpha)\n",
        "    A = [[0 for i in range(len(parte_c.P))] for j in range(len(parte_c.P))]\n",
        "    B = [-1 for i in range(len(parte_c.P))]\n",
        "    for i, esperanza in enumerate(parte_c.P):\n",
        "        A[i][i] += -1\n",
        "        for j, p_ij in enumerate(esperanza):\n",
        "            if j == (parte_c.N - parte_c.I):\n",
        "                pass\n",
        "            else:\n",
        "                A[i][j] += parte_c.P[i][j]\n",
        "\n",
        "    A = np.array(A)\n",
        "    B = np.array(B)\n",
        "    x = solve(A, B)\n",
        "    tiempo_promedio.append(x[0])\n",
        "\n",
        "fig, ax = plt.subplots()\n",
        "br1 = np.arange(len(alpha_x))\n",
        "\n",
        "bar_c = ax.bar(br1, tiempo_promedio)\n",
        "ax.set_xlabel(r'$\\alpha$ Value')\n",
        "ax.set_ylabel('Tiempo Promedio (dias)')\n",
        "ax.set_title('Tiempo promedio en contagiarse toda la poblacion')\n",
        "ax.set_xticks(br1)\n",
        "ax.set_xticklabels(alpha_x)\n",
        "plt.savefig('P3_c.pdf')\n",
        "plt.show()"
      ],
      "execution_count": 3,
      "outputs": [
        {
          "output_type": "stream",
          "text": [
            "519.9789350612327\n"
          ],
          "name": "stdout"
        },
        {
          "output_type": "display_data",
          "data": {
            "image/png": "[encoded data removed]",
            "text/plain": [
              "<Figure size 432x288 with 1 Axes>"
            ]
          },
          "metadata": {
            "tags": [],
            "needs_background": "light"
          }
        }
      ]
    },
    {
      "cell_type": "markdown",
      "metadata": {
        "id": "gEcn_SyzbVCO"
      },
      "source": [
        "##d)"
      ]
    },
    {
      "cell_type": "code",
      "metadata": {
        "id": "zGMHuZwwbTdy"
      },
      "source": [
        "class Sistema_Medicos:\n",
        "\n",
        "    def __init__(self, N, I, M, alpha, beta):\n",
        "        self.N = N\n",
        "        self.I = I\n",
        "        self.M = M\n",
        "        self.alpha = alpha\n",
        "        self.beta = beta\n",
        "        # P es la matriz de transición\n",
        "        self.P = [[self.P_ij(i, j) for j in range(N - M + 1)]  for i in range(N - M + 1)]\n",
        "\n",
        "    # Función que calcula probabilidad de transición de un estado i a otro j:\n",
        "    def P_ij(self, i, j):\n",
        "        civiles = self.N - self.M\n",
        "        if j == i:\n",
        "            probability = (civiles - i)/self.N * (civiles - 1 - i)/(self.N - 1) + \\\n",
        "                          self.M/self.N * (self.M - 1)/(self.N - 1) + \\\n",
        "                          i/self.N * (i - 1)/(self.N - 1) + \\\n",
        "                          2 * (civiles - i)/self.N * self.M/(self.N - 1) + \\\n",
        "                          2 * (civiles - i)/self.N * i/(self.N - 1) * (1 - self.alpha) + \\\n",
        "                          2 * i/self.N * self.M/(self.N - 1) * (1 - self.beta)\n",
        "        elif j == i + 1:\n",
        "            probability = self.alpha * 2 * i/self.N * (civiles - i)/(self.N - 1)\n",
        "        elif j == i - 1:\n",
        "            probability = self.beta * 2 * i/self.N * self.M/(self.N - 1)\n",
        "        else:\n",
        "            probability = 0\n",
        "        return probability"
      ],
      "execution_count": 4,
      "outputs": []
    },
    {
      "cell_type": "markdown",
      "metadata": {
        "id": "mQJZQHP1baMr"
      },
      "source": [
        "##e)"
      ]
    },
    {
      "cell_type": "code",
      "metadata": {
        "colab": {
          "base_uri": "https://localhost:8080/",
          "height": 297
        },
        "id": "HyNNQB6LbY_5",
        "outputId": "daf16231-7a60-4071-ad9b-4aa7f0ec2c75"
      },
      "source": [
        "alpha_x = [i/10 for i in range(1, 11)]\n",
        "probability_200_alpha = []\n",
        "f_0 = [0 for i in range(101)]; f_0[25] = 1  # No hay distribucion limite, por lo que se necesita un\n",
        "                                            # estado inicial, en este caso se parte siempre de 25 contagiados.\n",
        "for x in alpha_x:\n",
        "    instance = Sistema_Medicos(120, 25, 20, x, 0.5)\n",
        "    matriz_transicion = np.array(instance.P)\n",
        "    matriz_200 = matrix_power(matriz_transicion, 200)\n",
        "    f_200 = np.dot(f_0, matriz_200)\n",
        "    probability_200_alpha.append(sum(f_200[26:101]))\n",
        "\n",
        "bar_width = 0.35\n",
        "fig, ax = plt.subplots()\n",
        "br1 = np.arange(len(alpha_x))\n",
        "bar_200_alpha = ax.bar(br1, probability_200_alpha, width = bar_width, label=\"200\")\n",
        "ax.set_xlabel(r'$\\alpha$ Value')\n",
        "ax.set_ylabel('Probability')\n",
        "ax.set_title('Probabilidad de más de 25 contagios en 200 dias')\n",
        "ax.set_xticks(br1)\n",
        "ax.set_xticklabels(alpha_x)\n",
        "ax.legend()\n",
        "plt.savefig('P3_e.pdf')\n",
        "plt.show()"
      ],
      "execution_count": 5,
      "outputs": [
        {
          "output_type": "display_data",
          "data": {
            "image/png": "[encoded data removed]",
            "text/plain": [
              "<Figure size 432x288 with 1 Axes>"
            ]
          },
          "metadata": {
            "tags": [],
            "needs_background": "light"
          }
        }
      ]
    },
    {
      "cell_type": "markdown",
      "metadata": {
        "id": "B5Nwt9VBbeUq"
      },
      "source": [
        "##f)"
      ]
    },
    {
      "cell_type": "code",
      "metadata": {
        "colab": {
          "base_uri": "https://localhost:8080/",
          "height": 299
        },
        "id": "2MFBO05Rbdtv",
        "outputId": "f71724a9-a749-46c5-e4f4-44c7793443c8"
      },
      "source": [
        "beta_x = [i/10 for i in range(1, 11)]\n",
        "probability_200_beta = []\n",
        "f_0 = [0 for i in range(101)]; f_0[25] = 1  # No hay distribucion limite, por lo que se necesita un\n",
        "                                            # estado inicial, en este caso se parte siempre de 25 contagiados.\n",
        "for x in beta_x:\n",
        "    instance = Sistema_Medicos(120, 25, 20, 0.6, x)\n",
        "    matriz_transicion = np.array(instance.P)\n",
        "    matriz_200 = matrix_power(matriz_transicion, 200)\n",
        "    f_200 = np.dot(f_0, matriz_200)\n",
        "    probability_200_beta.append(sum(f_200[26:101]))\n",
        "\n",
        "fig, ax = plt.subplots()\n",
        "br2 = np.arange(len(beta_x))\n",
        "bar_200_beta = ax.bar(br2, probability_200_beta, width = bar_width)\n",
        "ax.set_xlabel(r'$\\beta$ Value')\n",
        "ax.set_ylabel('Probability')\n",
        "ax.set_title('Probabilidad de más de 25 contagios en 200 dias')\n",
        "ax.set_xticks(br2)\n",
        "ax.set_xticklabels(beta_x)\n",
        "plt.savefig('P3_f.pdf')\n",
        "plt.show()"
      ],
      "execution_count": 6,
      "outputs": [
        {
          "output_type": "display_data",
          "data": {
            "image/png": "[encoded data removed]",
            "text/plain": [
              "<Figure size 432x288 with 1 Axes>"
            ]
          },
          "metadata": {
            "tags": [],
            "needs_background": "light"
          }
        }
      ]
    }
  ]
}